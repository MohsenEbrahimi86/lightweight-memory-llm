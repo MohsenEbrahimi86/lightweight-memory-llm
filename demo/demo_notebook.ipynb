# demo/demo_notebook.ipynb
{
 "cells": [
  {
   "cell_type": "markdown",
   "metadata": {},
   "source": [
    "# Memory System Demo\n",
    "\n",
    "This notebook demonstrates the memory system in action."
   ]
  },
  {
   "cell_type": "code",
   "execution_count": null,
   "metadata": {},
   "outputs": [],
   "source": [
    "import sys\n",
    "sys.path.append('..')\n",
    "\n",
    "from main import MemorySystem\n",
    "import json"
   ]
  },
  {
   "cell_type": "markdown",
   "metadata": {},
   "source": [
    "## Initialize Memory System"
   ]
  },
  {
   "cell_type": "code",
   "execution_count": null,
   "metadata": {},
   "outputs": [],
   "source": [
    "# Initialize the memory system\n",
    "memory_system = MemorySystem()\n",
    "print(\"Memory system initialized successfully!\")"
   ]
  },
  {
   "cell_type": "markdown",
   "metadata": {},
   "source": [
    "## Process Sample Conversations"
   ]
  },
  {
   "cell_type": "code",
   "execution_count": null,
   "metadata": {},
   "outputs": [],
   "source": [
    "# Sample conversation 1: Simple fact storage\n",
    "conversation1 = [\n",
    "    {\"role\": \"user\", \"content\": \"Hi, my name is John and I work at Google.\"},\n",
    "    {\"role\": \"assistant\", \"content\": \"Nice to meet you, John! What do you do at Google?\"},\n",
    "    {\"role\": \"user\", \"content\": \"I'm a software engineer working on search algorithms.\"}\n",
    "]\n",
    "\n",
    "# Process the conversation\n",
    "memories1 = memory_system.process_conversation(conversation1)\n",
    "print(f\"Extracted {len(memories1)} memories from conversation 1:\")\n",
    "for memory in memories1:\n",
    "    print(f\"- {memory['content']} (confidence: {memory['confidence']})\")"
   ]
  },
  {
   "cell_type": "code",
   "execution_count": null,
   "metadata": {},
   "outputs": [],
   "source": [
    "# Sample conversation 2: Fact updates\n",
    "conversation2 = [\n",
    "    {\"role\": \"user\", \"content\": \"I've been thinking about changing jobs.\"},\n",
    "    {\"role\": \"assistant\", \"content\": \"Oh, what's making you consider that?\"},\n",
    "    {\"role\": \"user\", \"content\": \"I just accepted a new position at Microsoft as a Principal Engineer.\"}\n",
    "]\n",
    "\n",
    "# Process the conversation\n",
    "memories2 = memory_system.process_conversation(conversation2)\n",
    "print(f\"Extracted {len(memories2)} memories from conversation 2:\")\n",
    "for memory in memories2:\n",
    "    print(f\"- {memory['content']} (confidence: {memory['confidence']})\")\n",
    "    if memory.get('is_update', False):\n",
    "        print(f\"  (Update from: {memory.get('previous_value', 'unknown')})\")"
   ]
  },
  {
   "cell_type": "markdown",
   "metadata": {},
   "source": [
    "## Query Memories"
   ]
  },
  {
   "cell_type": "code",
   "execution_count": null,
   "metadata": {},
   "outputs": [],
   "source": [
    "# Query 1: Simple fact retrieval\n",
    "query1 = \"Where does John work?\"\n",
    "relevant_memories1 = memory_system.query_memories(query1)\n",
    "\n",
    "print(f\"Query: {query1}\")\n",
    "print(\"Relevant memories:\")\n",
    "for memory in relevant_memories1:\n",
    "    print(f\"- {memory['content']} (relevance: {memory['relevance_score']:.2f}\")"
   ]
  },
  {
   "cell_type": "code",
   "execution_count": null,
   "metadata": {},
   "outputs": [],
   "source": [
    "# Query 2: Updated fact retrieval\n",
    "query2 = \"What is John's job?\"\n",
    "relevant_memories2 = memory_system.query_memories(query2)\n",
    "\n",
    "print(f\"Query: {query2}\")\n",
    "print(\"Relevant memories:\")\n",
    "for memory in relevant_memories2:\n",
    "    print(f\"- {memory['content']} (relevance: {memory['relevance_score']:.2f}\")\n",
    "    if memory.get('is_update', False):\n",
    "        print(f\"  (Previously: {memory.get('previous_value', 'unknown')})\")"
   ]
  },
  {
   "cell_type": "markdown",
   "metadata": {},
   "source": [
    "## View All Stored Memories"
   ]
  },
  {
   "cell_type": "code",
   "execution_count": null,
   "metadata": {},
   "outputs": [],
   "source": [
    "# Get all stored memories\n",
    "all_memories = memory_system.store.get_all_memories()\n",
    "\n",
    "print(f\"Total memories stored: {len(all_memories)}\\n\")\n",
    "for memory in all_memories:\n",
    "    print(f\"- {memory['content']}\")\n",
    "    print(f\"  Fact ID: {memory['fact_id']}\")\n",
    "    print(f\"  Confidence: {memory['confidence']}\")\n",
    "    print(f\"  Timestamp: {memory['timestamp']}\")\n",
    "    if memory.get('is_update', False):\n",
    "        print(f\"  Update from: {memory.get('previous_value', 'unknown')}\")\n",
    "    print()"
   ]
  }
 ],
 "metadata": {
  "kernelspec": {
   "display_name": "Python 3",
   "language": "python",
   "name": "python3"
  },
  "language_info": {
   "codemirror_mode": {
    "name": "ipython",
    "version": 3
   },
   "file_extension": ".py",
   "mimetype": "text/x-python",
   "name": "python",
   "nbconvert_exporter": "python",
   "pygments_lexer": "ipython3",
   "version": "3.9.7"
  }
 },
 "nbformat": 4,
 "nbformat_minor": 4
}
